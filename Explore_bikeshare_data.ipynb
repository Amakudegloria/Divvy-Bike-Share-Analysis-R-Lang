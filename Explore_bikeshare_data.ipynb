{
 "cells": [
  {
   "cell_type": "markdown",
   "metadata": {},
   "source": [
    "### Explore Bike Share Data\n",
    "\n",
    "For this project, your goal is to ask and answer three questions about the available bikeshare data from Washington, Chicago, and New York.  This notebook can be submitted directly through the workspace when you are confident in your results.\n",
    "\n",
    "You will be graded against the project [Rubric](https://review.udacity.com/#!/rubrics/2508/view) by a mentor after you have submitted.  To get you started, you can use the template below, but feel free to be creative in your solutions!"
   ]
  },
  {
   "cell_type": "code",
   "execution_count": 1,
   "metadata": {},
   "outputs": [],
   "source": [
    "library(\"plyr\")"
   ]
  },
  {
   "cell_type": "code",
   "execution_count": 2,
   "metadata": {},
   "outputs": [],
   "source": [
    "library(\"ggplot2\")"
   ]
  },
  {
   "cell_type": "code",
   "execution_count": 3,
   "metadata": {},
   "outputs": [
    {
     "name": "stderr",
     "output_type": "stream",
     "text": [
      "\n",
      "Attaching package: ‘lubridate’\n",
      "\n",
      "The following object is masked from ‘package:plyr’:\n",
      "\n",
      "    here\n",
      "\n",
      "The following object is masked from ‘package:base’:\n",
      "\n",
      "    date\n",
      "\n"
     ]
    }
   ],
   "source": [
    "library(lubridate)"
   ]
  },
  {
   "cell_type": "code",
   "execution_count": 4,
   "metadata": {},
   "outputs": [
    {
     "data": {
      "text/html": [
       "<table>\n",
       "<thead><tr><th scope=col>Package</th><th scope=col>LibPath</th><th scope=col>Version</th><th scope=col>Priority</th><th scope=col>Depends</th><th scope=col>Imports</th><th scope=col>LinkingTo</th><th scope=col>Suggests</th><th scope=col>Enhances</th><th scope=col>License</th><th scope=col>License_is_FOSS</th><th scope=col>License_restricts_use</th><th scope=col>OS_type</th><th scope=col>Archs</th><th scope=col>MD5sum</th><th scope=col>NeedsCompilation</th><th scope=col>Built</th></tr></thead>\n",
       "<tbody>\n",
       "</tbody>\n",
       "</table>\n"
      ],
      "text/latex": [
       "\\begin{tabular}{lllllllllllllllll}\n",
       " Package & LibPath & Version & Priority & Depends & Imports & LinkingTo & Suggests & Enhances & License & License\\_is\\_FOSS & License\\_restricts\\_use & OS\\_type & Archs & MD5sum & NeedsCompilation & Built\\\\\n",
       "\\hline\n",
       "\\end{tabular}\n"
      ],
      "text/markdown": [
       "\n",
       "| Package | LibPath | Version | Priority | Depends | Imports | LinkingTo | Suggests | Enhances | License | License_is_FOSS | License_restricts_use | OS_type | Archs | MD5sum | NeedsCompilation | Built |\n",
       "|---|---|---|---|---|---|---|---|---|---|---|---|---|---|---|---|---|\n",
       "\n"
      ],
      "text/plain": [
       "     Package LibPath Version Priority Depends Imports LinkingTo Suggests\n",
       "     Enhances License License_is_FOSS License_restricts_use OS_type Archs\n",
       "     MD5sum NeedsCompilation Built"
      ]
     },
     "metadata": {},
     "output_type": "display_data"
    }
   ],
   "source": [
    "installed.packages('ggplot2')"
   ]
  },
  {
   "cell_type": "code",
   "execution_count": 5,
   "metadata": {},
   "outputs": [],
   "source": [
    "ny = read.csv('new_york_city.csv')\n",
    "wash = read.csv('washington.csv')\n",
    "chi = read.csv('chicago.csv')"
   ]
  },
  {
   "cell_type": "code",
   "execution_count": 6,
   "metadata": {},
   "outputs": [
    {
     "data": {
      "text/html": [
       "<table>\n",
       "<thead><tr><th scope=col>X</th><th scope=col>Start.Time</th><th scope=col>End.Time</th><th scope=col>Trip.Duration</th><th scope=col>Start.Station</th><th scope=col>End.Station</th><th scope=col>User.Type</th><th scope=col>Gender</th><th scope=col>Birth.Year</th></tr></thead>\n",
       "<tbody>\n",
       "\t<tr><td>5688089                                       </td><td>2017-06-11 14:55:05                           </td><td>2017-06-11 15:08:21                           </td><td> 795                                          </td><td>Suffolk St &amp; Stanton St                   </td><td>W Broadway &amp; Spring St                    </td><td>Subscriber                                    </td><td><span style=white-space:pre-wrap>Male  </span></td><td>1998                                          </td></tr>\n",
       "\t<tr><td>4096714                                                           </td><td>2017-05-11 15:30:11                                               </td><td>2017-05-11 15:41:43                                               </td><td> 692                                                              </td><td>Lexington Ave &amp; E 63 St                                       </td><td><span style=white-space:pre-wrap>1 Ave &amp; E 78 St       </span></td><td>Subscriber                                                        </td><td><span style=white-space:pre-wrap>Male  </span>                    </td><td>1981                                                              </td></tr>\n",
       "\t<tr><td>2173887                                                            </td><td>2017-03-29 13:26:26                                                </td><td>2017-03-29 13:48:31                                                </td><td>1325                                                               </td><td><span style=white-space:pre-wrap>1 Pl &amp; Clinton St      </span></td><td><span style=white-space:pre-wrap>Henry St &amp; Degraw St  </span> </td><td>Subscriber                                                         </td><td><span style=white-space:pre-wrap>Male  </span>                     </td><td>1987                                                               </td></tr>\n",
       "\t<tr><td>3945638                                                            </td><td>2017-05-08 19:47:18                                                </td><td>2017-05-08 19:59:01                                                </td><td> 703                                                               </td><td><span style=white-space:pre-wrap>Barrow St &amp; Hudson St  </span></td><td><span style=white-space:pre-wrap>W 20 St &amp; 8 Ave       </span> </td><td>Subscriber                                                         </td><td>Female                                                             </td><td>1986                                                               </td></tr>\n",
       "\t<tr><td>6208972                                                            </td><td>2017-06-21 07:49:16                                                </td><td>2017-06-21 07:54:46                                                </td><td> 329                                                               </td><td><span style=white-space:pre-wrap>1 Ave &amp; E 44 St        </span></td><td><span style=white-space:pre-wrap>E 53 St &amp; 3 Ave       </span> </td><td>Subscriber                                                         </td><td><span style=white-space:pre-wrap>Male  </span>                     </td><td>1992                                                               </td></tr>\n",
       "\t<tr><td>1285652                                                            </td><td>2017-02-22 18:55:24                                                </td><td>2017-02-22 19:12:03                                                </td><td> 998                                                               </td><td><span style=white-space:pre-wrap>State St &amp; Smith St    </span></td><td><span style=white-space:pre-wrap>Bond St &amp; Fulton St   </span> </td><td>Subscriber                                                         </td><td><span style=white-space:pre-wrap>Male  </span>                     </td><td>1986                                                               </td></tr>\n",
       "</tbody>\n",
       "</table>\n"
      ],
      "text/latex": [
       "\\begin{tabular}{r|lllllllll}\n",
       " X & Start.Time & End.Time & Trip.Duration & Start.Station & End.Station & User.Type & Gender & Birth.Year\\\\\n",
       "\\hline\n",
       "\t 5688089                   & 2017-06-11 14:55:05       & 2017-06-11 15:08:21       &  795                      & Suffolk St \\& Stanton St & W Broadway \\& Spring St  & Subscriber                & Male                      & 1998                     \\\\\n",
       "\t 4096714                   & 2017-05-11 15:30:11       & 2017-05-11 15:41:43       &  692                      & Lexington Ave \\& E 63 St & 1 Ave \\& E 78 St         & Subscriber                & Male                      & 1981                     \\\\\n",
       "\t 2173887                   & 2017-03-29 13:26:26       & 2017-03-29 13:48:31       & 1325                      & 1 Pl \\& Clinton St       & Henry St \\& Degraw St    & Subscriber                & Male                      & 1987                     \\\\\n",
       "\t 3945638                   & 2017-05-08 19:47:18       & 2017-05-08 19:59:01       &  703                      & Barrow St \\& Hudson St   & W 20 St \\& 8 Ave         & Subscriber                & Female                    & 1986                     \\\\\n",
       "\t 6208972                   & 2017-06-21 07:49:16       & 2017-06-21 07:54:46       &  329                      & 1 Ave \\& E 44 St         & E 53 St \\& 3 Ave         & Subscriber                & Male                      & 1992                     \\\\\n",
       "\t 1285652                   & 2017-02-22 18:55:24       & 2017-02-22 19:12:03       &  998                      & State St \\& Smith St     & Bond St \\& Fulton St     & Subscriber                & Male                      & 1986                     \\\\\n",
       "\\end{tabular}\n"
      ],
      "text/markdown": [
       "\n",
       "| X | Start.Time | End.Time | Trip.Duration | Start.Station | End.Station | User.Type | Gender | Birth.Year |\n",
       "|---|---|---|---|---|---|---|---|---|\n",
       "| 5688089                 | 2017-06-11 14:55:05     | 2017-06-11 15:08:21     |  795                    | Suffolk St & Stanton St | W Broadway & Spring St  | Subscriber              | Male                    | 1998                    |\n",
       "| 4096714                 | 2017-05-11 15:30:11     | 2017-05-11 15:41:43     |  692                    | Lexington Ave & E 63 St | 1 Ave & E 78 St         | Subscriber              | Male                    | 1981                    |\n",
       "| 2173887                 | 2017-03-29 13:26:26     | 2017-03-29 13:48:31     | 1325                    | 1 Pl & Clinton St       | Henry St & Degraw St    | Subscriber              | Male                    | 1987                    |\n",
       "| 3945638                 | 2017-05-08 19:47:18     | 2017-05-08 19:59:01     |  703                    | Barrow St & Hudson St   | W 20 St & 8 Ave         | Subscriber              | Female                  | 1986                    |\n",
       "| 6208972                 | 2017-06-21 07:49:16     | 2017-06-21 07:54:46     |  329                    | 1 Ave & E 44 St         | E 53 St & 3 Ave         | Subscriber              | Male                    | 1992                    |\n",
       "| 1285652                 | 2017-02-22 18:55:24     | 2017-02-22 19:12:03     |  998                    | State St & Smith St     | Bond St & Fulton St     | Subscriber              | Male                    | 1986                    |\n",
       "\n"
      ],
      "text/plain": [
       "  X       Start.Time          End.Time            Trip.Duration\n",
       "1 5688089 2017-06-11 14:55:05 2017-06-11 15:08:21  795         \n",
       "2 4096714 2017-05-11 15:30:11 2017-05-11 15:41:43  692         \n",
       "3 2173887 2017-03-29 13:26:26 2017-03-29 13:48:31 1325         \n",
       "4 3945638 2017-05-08 19:47:18 2017-05-08 19:59:01  703         \n",
       "5 6208972 2017-06-21 07:49:16 2017-06-21 07:54:46  329         \n",
       "6 1285652 2017-02-22 18:55:24 2017-02-22 19:12:03  998         \n",
       "  Start.Station           End.Station            User.Type  Gender Birth.Year\n",
       "1 Suffolk St & Stanton St W Broadway & Spring St Subscriber Male   1998      \n",
       "2 Lexington Ave & E 63 St 1 Ave & E 78 St        Subscriber Male   1981      \n",
       "3 1 Pl & Clinton St       Henry St & Degraw St   Subscriber Male   1987      \n",
       "4 Barrow St & Hudson St   W 20 St & 8 Ave        Subscriber Female 1986      \n",
       "5 1 Ave & E 44 St         E 53 St & 3 Ave        Subscriber Male   1992      \n",
       "6 State St & Smith St     Bond St & Fulton St    Subscriber Male   1986      "
      ]
     },
     "metadata": {},
     "output_type": "display_data"
    }
   ],
   "source": [
    "head(ny)"
   ]
  },
  {
   "cell_type": "code",
   "execution_count": 7,
   "metadata": {},
   "outputs": [
    {
     "data": {
      "text/html": [
       "<table>\n",
       "<thead><tr><th scope=col>X</th><th scope=col>Start.Time</th><th scope=col>End.Time</th><th scope=col>Trip.Duration</th><th scope=col>Start.Station</th><th scope=col>End.Station</th><th scope=col>User.Type</th></tr></thead>\n",
       "<tbody>\n",
       "\t<tr><td>1621326                                                                                        </td><td>2017-06-21 08:36:34                                                                            </td><td>2017-06-21 08:44:43                                                                            </td><td> 489.066                                                                                       </td><td><span style=white-space:pre-wrap>14th &amp; Belmont St NW                       </span>        </td><td><span style=white-space:pre-wrap>15th &amp; K St NW                                     </span></td><td>Subscriber                                                                                     </td></tr>\n",
       "\t<tr><td> 482740                                                                                        </td><td>2017-03-11 10:40:00                                                                            </td><td>2017-03-11 10:46:00                                                                            </td><td> 402.549                                                                                       </td><td><span style=white-space:pre-wrap>Yuma St &amp; Tenley Circle NW                 </span>        </td><td><span style=white-space:pre-wrap>Connecticut Ave &amp; Yuma St NW                       </span></td><td>Subscriber                                                                                     </td></tr>\n",
       "\t<tr><td>1330037                                                                                        </td><td>2017-05-30 01:02:59                                                                            </td><td>2017-05-30 01:13:37                                                                            </td><td> 637.251                                                                                       </td><td><span style=white-space:pre-wrap>17th St &amp; Massachusetts Ave NW             </span>        </td><td><span style=white-space:pre-wrap>5th &amp; K St NW                                      </span></td><td>Subscriber                                                                                     </td></tr>\n",
       "\t<tr><td> 665458                                                                                        </td><td>2017-04-02 07:48:35                                                                            </td><td>2017-04-02 08:19:03                                                                            </td><td>1827.341                                                                                       </td><td><span style=white-space:pre-wrap>Constitution Ave &amp; 2nd St NW/DOL           </span>        </td><td><span style=white-space:pre-wrap>M St &amp; Pennsylvania Ave NW                         </span></td><td><span style=white-space:pre-wrap>Customer  </span>                                             </td></tr>\n",
       "\t<tr><td>1481135                                                                                        </td><td>2017-06-10 08:36:28                                                                            </td><td>2017-06-10 09:02:17                                                                            </td><td>1549.427                                                                                       </td><td>Henry Bacon Dr &amp; Lincoln Memorial Circle NW                                                </td><td><span style=white-space:pre-wrap>Maine Ave &amp; 7th St SW                              </span></td><td>Subscriber                                                                                     </td></tr>\n",
       "\t<tr><td>1148202                                                                                </td><td>2017-05-14 07:18:18                                                                    </td><td>2017-05-14 07:24:56                                                                    </td><td> 398.000                                                                               </td><td><span style=white-space:pre-wrap>1st &amp; K St SE                              </span></td><td>Eastern Market Metro / Pennsylvania Ave &amp; 7th St SE                                </td><td>Subscriber                                                                             </td></tr>\n",
       "</tbody>\n",
       "</table>\n"
      ],
      "text/latex": [
       "\\begin{tabular}{r|lllllll}\n",
       " X & Start.Time & End.Time & Trip.Duration & Start.Station & End.Station & User.Type\\\\\n",
       "\\hline\n",
       "\t 1621326                                               & 2017-06-21 08:36:34                                   & 2017-06-21 08:44:43                                   &  489.066                                              & 14th \\& Belmont St NW                                & 15th \\& K St NW                                      & Subscriber                                           \\\\\n",
       "\t  482740                                               & 2017-03-11 10:40:00                                   & 2017-03-11 10:46:00                                   &  402.549                                              & Yuma St \\& Tenley Circle NW                          & Connecticut Ave \\& Yuma St NW                        & Subscriber                                           \\\\\n",
       "\t 1330037                                               & 2017-05-30 01:02:59                                   & 2017-05-30 01:13:37                                   &  637.251                                              & 17th St \\& Massachusetts Ave NW                      & 5th \\& K St NW                                       & Subscriber                                           \\\\\n",
       "\t  665458                                               & 2017-04-02 07:48:35                                   & 2017-04-02 08:19:03                                   & 1827.341                                              & Constitution Ave \\& 2nd St NW/DOL                    & M St \\& Pennsylvania Ave NW                          & Customer                                             \\\\\n",
       "\t 1481135                                               & 2017-06-10 08:36:28                                   & 2017-06-10 09:02:17                                   & 1549.427                                              & Henry Bacon Dr \\& Lincoln Memorial Circle NW         & Maine Ave \\& 7th St SW                               & Subscriber                                           \\\\\n",
       "\t 1148202                                               & 2017-05-14 07:18:18                                   & 2017-05-14 07:24:56                                   &  398.000                                              & 1st \\& K St SE                                       & Eastern Market Metro / Pennsylvania Ave \\& 7th St SE & Subscriber                                           \\\\\n",
       "\\end{tabular}\n"
      ],
      "text/markdown": [
       "\n",
       "| X | Start.Time | End.Time | Trip.Duration | Start.Station | End.Station | User.Type |\n",
       "|---|---|---|---|---|---|---|\n",
       "| 1621326                                             | 2017-06-21 08:36:34                                 | 2017-06-21 08:44:43                                 |  489.066                                            | 14th & Belmont St NW                                | 15th & K St NW                                      | Subscriber                                          |\n",
       "|  482740                                             | 2017-03-11 10:40:00                                 | 2017-03-11 10:46:00                                 |  402.549                                            | Yuma St & Tenley Circle NW                          | Connecticut Ave & Yuma St NW                        | Subscriber                                          |\n",
       "| 1330037                                             | 2017-05-30 01:02:59                                 | 2017-05-30 01:13:37                                 |  637.251                                            | 17th St & Massachusetts Ave NW                      | 5th & K St NW                                       | Subscriber                                          |\n",
       "|  665458                                             | 2017-04-02 07:48:35                                 | 2017-04-02 08:19:03                                 | 1827.341                                            | Constitution Ave & 2nd St NW/DOL                    | M St & Pennsylvania Ave NW                          | Customer                                            |\n",
       "| 1481135                                             | 2017-06-10 08:36:28                                 | 2017-06-10 09:02:17                                 | 1549.427                                            | Henry Bacon Dr & Lincoln Memorial Circle NW         | Maine Ave & 7th St SW                               | Subscriber                                          |\n",
       "| 1148202                                             | 2017-05-14 07:18:18                                 | 2017-05-14 07:24:56                                 |  398.000                                            | 1st & K St SE                                       | Eastern Market Metro / Pennsylvania Ave & 7th St SE | Subscriber                                          |\n",
       "\n"
      ],
      "text/plain": [
       "  X       Start.Time          End.Time            Trip.Duration\n",
       "1 1621326 2017-06-21 08:36:34 2017-06-21 08:44:43  489.066     \n",
       "2  482740 2017-03-11 10:40:00 2017-03-11 10:46:00  402.549     \n",
       "3 1330037 2017-05-30 01:02:59 2017-05-30 01:13:37  637.251     \n",
       "4  665458 2017-04-02 07:48:35 2017-04-02 08:19:03 1827.341     \n",
       "5 1481135 2017-06-10 08:36:28 2017-06-10 09:02:17 1549.427     \n",
       "6 1148202 2017-05-14 07:18:18 2017-05-14 07:24:56  398.000     \n",
       "  Start.Station                              \n",
       "1 14th & Belmont St NW                       \n",
       "2 Yuma St & Tenley Circle NW                 \n",
       "3 17th St & Massachusetts Ave NW             \n",
       "4 Constitution Ave & 2nd St NW/DOL           \n",
       "5 Henry Bacon Dr & Lincoln Memorial Circle NW\n",
       "6 1st & K St SE                              \n",
       "  End.Station                                         User.Type \n",
       "1 15th & K St NW                                      Subscriber\n",
       "2 Connecticut Ave & Yuma St NW                        Subscriber\n",
       "3 5th & K St NW                                       Subscriber\n",
       "4 M St & Pennsylvania Ave NW                          Customer  \n",
       "5 Maine Ave & 7th St SW                               Subscriber\n",
       "6 Eastern Market Metro / Pennsylvania Ave & 7th St SE Subscriber"
      ]
     },
     "metadata": {},
     "output_type": "display_data"
    }
   ],
   "source": [
    "head(wash)"
   ]
  },
  {
   "cell_type": "code",
   "execution_count": 8,
   "metadata": {},
   "outputs": [
    {
     "data": {
      "text/html": [
       "<table>\n",
       "<thead><tr><th scope=col>X</th><th scope=col>Start.Time</th><th scope=col>End.Time</th><th scope=col>Trip.Duration</th><th scope=col>Start.Station</th><th scope=col>End.Station</th><th scope=col>User.Type</th><th scope=col>Gender</th><th scope=col>Birth.Year</th></tr></thead>\n",
       "<tbody>\n",
       "\t<tr><td>1423854                                                                  </td><td>2017-06-23 15:09:32                                                      </td><td>2017-06-23 15:14:53                                                      </td><td> 321                                                                     </td><td><span style=white-space:pre-wrap>Wood St &amp; Hubbard St         </span></td><td><span style=white-space:pre-wrap>Damen Ave &amp; Chicago Ave     </span> </td><td>Subscriber                                                               </td><td><span style=white-space:pre-wrap>Male  </span>                           </td><td>1992                                                                     </td></tr>\n",
       "\t<tr><td> 955915                                                              </td><td>2017-05-25 18:19:03                                                  </td><td>2017-05-25 18:45:53                                                  </td><td>1610                                                                 </td><td><span style=white-space:pre-wrap>Theater on the Lake          </span></td><td>Sheffield Ave &amp; Waveland Ave                                     </td><td>Subscriber                                                           </td><td>Female                                                               </td><td>1992                                                                 </td></tr>\n",
       "\t<tr><td><span style=white-space:pre-wrap>   9031</span>                          </td><td>2017-01-04 08:27:49                                                      </td><td>2017-01-04 08:34:45                                                      </td><td> 416                                                                     </td><td><span style=white-space:pre-wrap>May St &amp; Taylor St           </span></td><td><span style=white-space:pre-wrap>Wood St &amp; Taylor St         </span> </td><td>Subscriber                                                               </td><td><span style=white-space:pre-wrap>Male  </span>                           </td><td>1981                                                                     </td></tr>\n",
       "\t<tr><td> 304487                                       </td><td>2017-03-06 13:49:38                           </td><td>2017-03-06 13:55:28                           </td><td> 350                                          </td><td>Christiana Ave &amp; Lawrence Ave             </td><td>St. Louis Ave &amp; Balmoral Ave              </td><td>Subscriber                                    </td><td><span style=white-space:pre-wrap>Male  </span></td><td>1986                                          </td></tr>\n",
       "\t<tr><td><span style=white-space:pre-wrap>  45207</span>                          </td><td>2017-01-17 14:53:07                                                      </td><td>2017-01-17 15:02:01                                                      </td><td> 534                                                                     </td><td><span style=white-space:pre-wrap>Clark St &amp; Randolph St       </span></td><td>Desplaines St &amp; Jackson Blvd                                         </td><td>Subscriber                                                               </td><td><span style=white-space:pre-wrap>Male  </span>                           </td><td>1975                                                                     </td></tr>\n",
       "\t<tr><td>1473887                                                                 </td><td>2017-06-26 09:01:20                                                     </td><td>2017-06-26 09:11:06                                                     </td><td> 586                                                                    </td><td>Clinton St &amp; Washington Blvd                                        </td><td><span style=white-space:pre-wrap>Canal St &amp; Taylor St        </span></td><td>Subscriber                                                              </td><td><span style=white-space:pre-wrap>Male  </span>                          </td><td>1990                                                                    </td></tr>\n",
       "</tbody>\n",
       "</table>\n"
      ],
      "text/latex": [
       "\\begin{tabular}{r|lllllllll}\n",
       " X & Start.Time & End.Time & Trip.Duration & Start.Station & End.Station & User.Type & Gender & Birth.Year\\\\\n",
       "\\hline\n",
       "\t 1423854                         & 2017-06-23 15:09:32             & 2017-06-23 15:14:53             &  321                            & Wood St \\& Hubbard St          & Damen Ave \\& Chicago Ave       & Subscriber                      & Male                            & 1992                           \\\\\n",
       "\t  955915                        & 2017-05-25 18:19:03            & 2017-05-25 18:45:53            & 1610                           & Theater on the Lake            & Sheffield Ave \\& Waveland Ave & Subscriber                     & Female                         & 1992                          \\\\\n",
       "\t    9031                         & 2017-01-04 08:27:49             & 2017-01-04 08:34:45             &  416                            & May St \\& Taylor St            & Wood St \\& Taylor St           & Subscriber                      & Male                            & 1981                           \\\\\n",
       "\t  304487                         & 2017-03-06 13:49:38             & 2017-03-06 13:55:28             &  350                            & Christiana Ave \\& Lawrence Ave & St. Louis Ave \\& Balmoral Ave  & Subscriber                      & Male                            & 1986                           \\\\\n",
       "\t   45207                         & 2017-01-17 14:53:07             & 2017-01-17 15:02:01             &  534                            & Clark St \\& Randolph St        & Desplaines St \\& Jackson Blvd  & Subscriber                      & Male                            & 1975                           \\\\\n",
       "\t 1473887                         & 2017-06-26 09:01:20             & 2017-06-26 09:11:06             &  586                            & Clinton St \\& Washington Blvd  & Canal St \\& Taylor St          & Subscriber                      & Male                            & 1990                           \\\\\n",
       "\\end{tabular}\n"
      ],
      "text/markdown": [
       "\n",
       "| X | Start.Time | End.Time | Trip.Duration | Start.Station | End.Station | User.Type | Gender | Birth.Year |\n",
       "|---|---|---|---|---|---|---|---|---|\n",
       "| 1423854                       | 2017-06-23 15:09:32           | 2017-06-23 15:14:53           |  321                          | Wood St & Hubbard St          | Damen Ave & Chicago Ave       | Subscriber                    | Male                          | 1992                          |\n",
       "|  955915                       | 2017-05-25 18:19:03           | 2017-05-25 18:45:53           | 1610                          | Theater on the Lake           | Sheffield Ave & Waveland Ave  | Subscriber                    | Female                        | 1992                          |\n",
       "|    9031                       | 2017-01-04 08:27:49           | 2017-01-04 08:34:45           |  416                          | May St & Taylor St            | Wood St & Taylor St           | Subscriber                    | Male                          | 1981                          |\n",
       "|  304487                       | 2017-03-06 13:49:38           | 2017-03-06 13:55:28           |  350                          | Christiana Ave & Lawrence Ave | St. Louis Ave & Balmoral Ave  | Subscriber                    | Male                          | 1986                          |\n",
       "|   45207                       | 2017-01-17 14:53:07           | 2017-01-17 15:02:01           |  534                          | Clark St & Randolph St        | Desplaines St & Jackson Blvd  | Subscriber                    | Male                          | 1975                          |\n",
       "| 1473887                       | 2017-06-26 09:01:20           | 2017-06-26 09:11:06           |  586                          | Clinton St & Washington Blvd  | Canal St & Taylor St          | Subscriber                    | Male                          | 1990                          |\n",
       "\n"
      ],
      "text/plain": [
       "  X       Start.Time          End.Time            Trip.Duration\n",
       "1 1423854 2017-06-23 15:09:32 2017-06-23 15:14:53  321         \n",
       "2  955915 2017-05-25 18:19:03 2017-05-25 18:45:53 1610         \n",
       "3    9031 2017-01-04 08:27:49 2017-01-04 08:34:45  416         \n",
       "4  304487 2017-03-06 13:49:38 2017-03-06 13:55:28  350         \n",
       "5   45207 2017-01-17 14:53:07 2017-01-17 15:02:01  534         \n",
       "6 1473887 2017-06-26 09:01:20 2017-06-26 09:11:06  586         \n",
       "  Start.Station                 End.Station                  User.Type  Gender\n",
       "1 Wood St & Hubbard St          Damen Ave & Chicago Ave      Subscriber Male  \n",
       "2 Theater on the Lake           Sheffield Ave & Waveland Ave Subscriber Female\n",
       "3 May St & Taylor St            Wood St & Taylor St          Subscriber Male  \n",
       "4 Christiana Ave & Lawrence Ave St. Louis Ave & Balmoral Ave Subscriber Male  \n",
       "5 Clark St & Randolph St        Desplaines St & Jackson Blvd Subscriber Male  \n",
       "6 Clinton St & Washington Blvd  Canal St & Taylor St         Subscriber Male  \n",
       "  Birth.Year\n",
       "1 1992      \n",
       "2 1992      \n",
       "3 1981      \n",
       "4 1986      \n",
       "5 1975      \n",
       "6 1990      "
      ]
     },
     "metadata": {},
     "output_type": "display_data"
    }
   ],
   "source": [
    "head(chi)"
   ]
  },
  {
   "cell_type": "markdown",
   "metadata": {},
   "source": [
    "### To concatenate all three datasets"
   ]
  },
  {
   "cell_type": "code",
   "execution_count": 9,
   "metadata": {},
   "outputs": [],
   "source": [
    "Bike_share_df <- rbind.fill(ny,chi,wash)"
   ]
  },
  {
   "cell_type": "markdown",
   "metadata": {},
   "source": [
    "### Concate new york and chicago datasets"
   ]
  },
  {
   "cell_type": "code",
   "execution_count": 10,
   "metadata": {},
   "outputs": [],
   "source": [
    "NY_Chicago_df <- rbind.fill(ny,chi)"
   ]
  },
  {
   "cell_type": "markdown",
   "metadata": {},
   "source": [
    "## create a mode function"
   ]
  },
  {
   "cell_type": "code",
   "execution_count": 11,
   "metadata": {},
   "outputs": [],
   "source": [
    "Mode <- function(x, na.rm = TRUE) {\n",
    "  if(na.rm){\n",
    "    x = x[!is.na(x)]\n",
    "  }\n",
    "\n",
    "  ux <- unique(x)\n",
    "  return(ux[which.max(tabulate(match(x, ux)))])\n",
    "}"
   ]
  },
  {
   "cell_type": "markdown",
   "metadata": {},
   "source": [
    "# Question 1\n",
    "\n",
    "### Popular times of travel"
   ]
  },
  {
   "cell_type": "markdown",
   "metadata": {},
   "source": [
    "# What is the most common month?"
   ]
  },
  {
   "cell_type": "code",
   "execution_count": 12,
   "metadata": {},
   "outputs": [
    {
     "data": {
      "text/html": [
       "<span style=white-space:pre-wrap>'The most common month in Chicago city is:  06'</span>"
      ],
      "text/latex": [
       "'The most common month in Chicago city is:  06'"
      ],
      "text/markdown": [
       "<span style=white-space:pre-wrap>'The most common month in Chicago city is:  06'</span>"
      ],
      "text/plain": [
       "[1] \"The most common month in Chicago city is:  06\""
      ]
     },
     "metadata": {},
     "output_type": "display_data"
    }
   ],
   "source": [
    "#This will add a new column (Month) to the dataframe with the specified format.\n",
    "\n",
    "chi$Month <- format(as.Date(chi$Start.Time), \"%m\")\n",
    "\n",
    "#calculate the mode of the months\n",
    "\n",
    "chi_month_mode <- chi$Month\n",
    "chi_month_mode <- Mode(chi_month_mode)\n",
    "paste(\"The most common month in Chicago city is: \", chi_month_mode)"
   ]
  },
  {
   "cell_type": "code",
   "execution_count": 13,
   "metadata": {},
   "outputs": [
    {
     "data": {
      "image/png": "[encoded data removed]",
      "text/plain": [
       "plot without title"
      ]
     },
     "metadata": {},
     "output_type": "display_data"
    }
   ],
   "source": [
    "#plot of the most common month in chicago\n",
    "qplot(x=Month,data=chi, color=I('Black'),fill=I('red'))+\n",
    "ggtitle(\"Histogram of Chicago's Monthly Usage\") +\n",
    "labs(x = \"Months\")+\n",
    "labs(y = \"Count of Users\")\n"
   ]
  },
  {
   "cell_type": "code",
   "execution_count": 14,
   "metadata": {},
   "outputs": [
    {
     "data": {
      "text/html": [
       "<span style=white-space:pre-wrap>'The most common month in New York city is:  06'</span>"
      ],
      "text/latex": [
       "'The most common month in New York city is:  06'"
      ],
      "text/markdown": [
       "<span style=white-space:pre-wrap>'The most common month in New York city is:  06'</span>"
      ],
      "text/plain": [
       "[1] \"The most common month in New York city is:  06\""
      ]
     },
     "metadata": {},
     "output_type": "display_data"
    }
   ],
   "source": [
    "#This will add a new column (Month) to the dataframe with the specified format.\n",
    "\n",
    "ny$Month <- format(as.Date(ny$Start.Time), \"%m\")\n",
    "\n",
    "#calculate the mode of the months\n",
    "\n",
    "ny_month_mode <- ny$Month\n",
    "ny_month_mode <- Mode(ny_month_mode)\n",
    "paste(\"The most common month in New York city is: \", ny_month_mode)"
   ]
  },
  {
   "cell_type": "code",
   "execution_count": 15,
   "metadata": {},
   "outputs": [
    {
     "data": {
      "image/png": "[encoded data removed]",
      "text/plain": [
       "plot without title"
      ]
     },
     "metadata": {},
     "output_type": "display_data"
    }
   ],
   "source": [
    "#plot of the most common month in New York City\n",
    "\n",
    "qplot(x=Month,data=ny, color=I('Black'),fill=I('orange'))+\n",
    "ggtitle(\"Histogram of New York's Monthly Usage\") +\n",
    "labs(x = \"Months\")+\n",
    "labs(y = \"Count of Users\")\n"
   ]
  },
  {
   "cell_type": "code",
   "execution_count": 16,
   "metadata": {},
   "outputs": [
    {
     "data": {
      "text/html": [
       "<span style=white-space:pre-wrap>'The most common month in Washington city is:  06'</span>"
      ],
      "text/latex": [
       "'The most common month in Washington city is:  06'"
      ],
      "text/markdown": [
       "<span style=white-space:pre-wrap>'The most common month in Washington city is:  06'</span>"
      ],
      "text/plain": [
       "[1] \"The most common month in Washington city is:  06\""
      ]
     },
     "metadata": {},
     "output_type": "display_data"
    }
   ],
   "source": [
    "#This will add a new column (Month) to the dataframe with the specified format.\n",
    "\n",
    "wash$Month <- format(as.Date(wash$Start.Time), \"%m\")\n",
    "\n",
    "#calculate the mode of the months\n",
    "\n",
    "wash_month_mode <- wash$Month\n",
    "wash_month_mode <- Mode(wash_month_mode)\n",
    "paste(\"The most common month in Washington city is: \", wash_month_mode)"
   ]
  },
  {
   "cell_type": "code",
   "execution_count": 17,
   "metadata": {},
   "outputs": [
    {
     "data": {
      "image/png": "[encoded data removed]",
      "text/plain": [
       "plot without title"
      ]
     },
     "metadata": {},
     "output_type": "display_data"
    }
   ],
   "source": [
    "qplot(x=Month,data=na.omit(wash), color=I('Black'),fill=I('Blue'))+\n",
    "ggtitle(\"Histogram of Washington's Monthly Usage\") +\n",
    "labs(x = \"Months\")+\n",
    "labs(y = \"Count of Users\")"
   ]
  },
  {
   "cell_type": "code",
   "execution_count": 18,
   "metadata": {},
   "outputs": [
    {
     "data": {
      "text/html": [
       "<span style=white-space:pre-wrap>'The most common month in all three cities is:  06'</span>"
      ],
      "text/latex": [
       "'The most common month in all three cities is:  06'"
      ],
      "text/markdown": [
       "<span style=white-space:pre-wrap>'The most common month in all three cities is:  06'</span>"
      ],
      "text/plain": [
       "[1] \"The most common month in all three cities is:  06\""
      ]
     },
     "metadata": {},
     "output_type": "display_data"
    }
   ],
   "source": [
    "#This will add a new column (Month) to the dataframe with the specified format.\n",
    "\n",
    "Bike_share_df$Month <- format(as.Date(Bike_share_df$Start.Time), \"%m\")\n",
    "\n",
    "#calculate the mode of the months\n",
    "\n",
    "month_mode <- Bike_share_df$Month\n",
    "month_mode <- Mode(month_mode)\n",
    "paste(\"The most common month in all three cities is: \", month_mode)"
   ]
  },
  {
   "cell_type": "code",
   "execution_count": 19,
   "metadata": {},
   "outputs": [
    {
     "data": {
      "image/png": "[encoded data removed]",
      "text/plain": [
       "plot without title"
      ]
     },
     "metadata": {},
     "output_type": "display_data"
    }
   ],
   "source": [
    "qplot(x=Month,data= na.omit(Bike_share_df), color=I('Black'),fill=I('Black'))+\n",
    "ggtitle(\"Histogram of all Bike Share's Monthly Usage\") +\n",
    "labs(x = \"Months\")+\n",
    "labs(y = \"Count of Users\")"
   ]
  },
  {
   "cell_type": "markdown",
   "metadata": {},
   "source": [
    "From the above exploration, It is shown that;\n",
    "1. The most common month in Chicago city is:06(June)\n",
    "2. The most common month in New York city is:06(June)\n",
    "3. The most common month in Washington city is:06(June)\n",
    "4. While, The most common month in all three cities is:06(June)"
   ]
  },
  {
   "cell_type": "markdown",
   "metadata": {},
   "source": [
    "# What is the most common weekday?"
   ]
  },
  {
   "cell_type": "code",
   "execution_count": 20,
   "metadata": {},
   "outputs": [
    {
     "data": {
      "text/html": [
       "<span style=white-space:pre-wrap>'The most common weekday in Chicago city is:  Monday'</span>"
      ],
      "text/latex": [
       "'The most common weekday in Chicago city is:  Monday'"
      ],
      "text/markdown": [
       "<span style=white-space:pre-wrap>'The most common weekday in Chicago city is:  Monday'</span>"
      ],
      "text/plain": [
       "[1] \"The most common weekday in Chicago city is:  Monday\""
      ]
     },
     "metadata": {},
     "output_type": "display_data"
    }
   ],
   "source": [
    "#This will add a new column (Weekday) to the dataframe with the specified format.\n",
    "\n",
    "chi$Weekday <- format(as.Date(chi$Start.Time), \"%A\")\n",
    "\n",
    "#calculate the mode of the weekdays\n",
    "chi_wk_mode <- chi$Weekday\n",
    "chi_wk_mode <- Mode(chi_wk_mode)\n",
    "paste(\"The most common weekday in Chicago city is: \", chi_wk_mode)"
   ]
  },
  {
   "cell_type": "code",
   "execution_count": 21,
   "metadata": {},
   "outputs": [
    {
     "data": {
      "image/png": "[encoded data removed]",
      "text/plain": [
       "plot without title"
      ]
     },
     "metadata": {},
     "output_type": "display_data"
    }
   ],
   "source": [
    "qplot(x=Weekday,data=chi, color=I('Black'),fill=I('red'))+\n",
    "ggtitle(\"Histogram of Chicago's Usage (Weekday)\") +\n",
    "labs(x = \"Weekdays\")+\n",
    "labs(y = \"Count of Users\")\n"
   ]
  },
  {
   "cell_type": "code",
   "execution_count": 22,
   "metadata": {},
   "outputs": [
    {
     "data": {
      "text/html": [
       "<span style=white-space:pre-wrap>'The most common weekday in New York city is:  Wednesday'</span>"
      ],
      "text/latex": [
       "'The most common weekday in New York city is:  Wednesday'"
      ],
      "text/markdown": [
       "<span style=white-space:pre-wrap>'The most common weekday in New York city is:  Wednesday'</span>"
      ],
      "text/plain": [
       "[1] \"The most common weekday in New York city is:  Wednesday\""
      ]
     },
     "metadata": {},
     "output_type": "display_data"
    }
   ],
   "source": [
    "#This will add a new column (Weekday) to the dataframe with the specified format.\n",
    "\n",
    "ny$Weekday <- format(as.Date(ny$Start.Time), \"%A\")\n",
    "\n",
    "#calculate the mode of the weekdays\n",
    "ny_wk_mode <- ny$Weekday\n",
    "ny_wk_mode <- Mode(ny_wk_mode)\n",
    "paste(\"The most common weekday in New York city is: \", ny_wk_mode)"
   ]
  },
  {
   "cell_type": "code",
   "execution_count": 23,
   "metadata": {},
   "outputs": [
    {
     "data": {
      "image/png": "[encoded data removed]",
      "text/plain": [
       "plot without title"
      ]
     },
     "metadata": {},
     "output_type": "display_data"
    }
   ],
   "source": [
    "qplot(x=Weekday,data=ny, color=I('Black'),fill=I('orange'))+\n",
    "ggtitle(\"Histogram of New York's Usage (Weekday)\") +\n",
    "labs(x = \"Weekdays\")+\n",
    "labs(y = \"Count of Users\")\n"
   ]
  },
  {
   "cell_type": "code",
   "execution_count": 24,
   "metadata": {},
   "outputs": [
    {
     "data": {
      "text/html": [
       "<span style=white-space:pre-wrap>'The most common weekday in Washington city is:  Wednesday'</span>"
      ],
      "text/latex": [
       "'The most common weekday in Washington city is:  Wednesday'"
      ],
      "text/markdown": [
       "<span style=white-space:pre-wrap>'The most common weekday in Washington city is:  Wednesday'</span>"
      ],
      "text/plain": [
       "[1] \"The most common weekday in Washington city is:  Wednesday\""
      ]
     },
     "metadata": {},
     "output_type": "display_data"
    }
   ],
   "source": [
    "#This will add a new column (Weekday) to the dataframe with the specified format.\n",
    "\n",
    "wash$Weekday <- format(as.Date(wash$Start.Time), \"%A\")\n",
    "\n",
    "#calculate the mode of the weekdays\n",
    "wash_wk_mode <- wash$Weekday\n",
    "wash_wk_mode <- Mode(wash_wk_mode)\n",
    "paste(\"The most common weekday in Washington city is: \", wash_wk_mode)"
   ]
  },
  {
   "cell_type": "code",
   "execution_count": 25,
   "metadata": {},
   "outputs": [
    {
     "data": {
      "image/png": "[encoded data removed]",
      "text/plain": [
       "plot without title"
      ]
     },
     "metadata": {},
     "output_type": "display_data"
    }
   ],
   "source": [
    "qplot(x=Weekday,data=na.omit(wash), color=I('Black'),fill=I('Blue'))+\n",
    "ggtitle(\"Histogram of Washington's Usage (Weekday)\") +\n",
    "labs(x = \"Weekdays\")+\n",
    "labs(y = \"Count of Users\")\n"
   ]
  },
  {
   "cell_type": "code",
   "execution_count": 26,
   "metadata": {},
   "outputs": [
    {
     "data": {
      "text/html": [
       "<span style=white-space:pre-wrap>'The most common weekday in all three cities is:  Wednesday'</span>"
      ],
      "text/latex": [
       "'The most common weekday in all three cities is:  Wednesday'"
      ],
      "text/markdown": [
       "<span style=white-space:pre-wrap>'The most common weekday in all three cities is:  Wednesday'</span>"
      ],
      "text/plain": [
       "[1] \"The most common weekday in all three cities is:  Wednesday\""
      ]
     },
     "metadata": {},
     "output_type": "display_data"
    }
   ],
   "source": [
    "#This will add a new column (Weekday) to the dataframe with the specified format.\n",
    "\n",
    "Bike_share_df$Weekday <- format(as.Date(Bike_share_df$Start.Time), \"%A\")\n",
    "\n",
    "#calculate the mode of the weekdays\n",
    "BS_wk_mode <- Bike_share_df$Weekday\n",
    "BS_wk_mode <- Mode(BS_wk_mode)\n",
    "paste(\"The most common weekday in all three cities is: \", BS_wk_mode)"
   ]
  },
  {
   "cell_type": "code",
   "execution_count": 27,
   "metadata": {},
   "outputs": [
    {
     "data": {
      "image/png": "[encoded data removed]",
      "text/plain": [
       "plot without title"
      ]
     },
     "metadata": {},
     "output_type": "display_data"
    }
   ],
   "source": [
    "qplot(x=Weekday,data=na.omit(Bike_share_df), color=I('Black'),fill=I('Black'))+\n",
    "ggtitle(\"Histogram of all Bike share's Usage (Weekday)\") +\n",
    "labs(x = \"Weekdays\")+\n",
    "labs(y = \"Count of Users\")\n"
   ]
  },
  {
   "cell_type": "markdown",
   "metadata": {},
   "source": [
    "From the above exploration, It is shown that;\n",
    "1. The most common Weekday in Chicago city is: Monday\n",
    "2. The most common Weekday in New York city is: Wednesday\n",
    "3. The most common Weekday in Washington city is: Wednesday\n",
    "4. While, The most common Weekday in all three cities is: Wednesday"
   ]
  },
  {
   "cell_type": "markdown",
   "metadata": {},
   "source": [
    "# What is the most common Hour?"
   ]
  },
  {
   "cell_type": "code",
   "execution_count": 28,
   "metadata": {},
   "outputs": [
    {
     "data": {
      "text/html": [
       "<span style=white-space:pre-wrap>'The most common Hour in Chicago city is:  17'</span>"
      ],
      "text/latex": [
       "'The most common Hour in Chicago city is:  17'"
      ],
      "text/markdown": [
       "<span style=white-space:pre-wrap>'The most common Hour in Chicago city is:  17'</span>"
      ],
      "text/plain": [
       "[1] \"The most common Hour in Chicago city is:  17\""
      ]
     },
     "metadata": {},
     "output_type": "display_data"
    }
   ],
   "source": [
    "#This will add a new column (Hour) to the dataframe with the specified format.\n",
    "\n",
    "chi$Hour <- format(as.POSIXct(strptime(chi$Start.Time,\"%Y-%m-%d %H:%M:%S\",tz=\"\")),format=\"%H\")\n",
    "\n",
    "#calculate the mode of the weekdays\n",
    "chi_Hour_mode <- chi$Hour\n",
    "chi_Hour_mode <- Mode(chi_Hour_mode)\n",
    "paste(\"The most common Hour in Chicago city is: \", chi_Hour_mode)"
   ]
  },
  {
   "cell_type": "code",
   "execution_count": 29,
   "metadata": {},
   "outputs": [
    {
     "data": {
      "image/png": "[encoded data removed]",
      "text/plain": [
       "plot without title"
      ]
     },
     "metadata": {},
     "output_type": "display_data"
    }
   ],
   "source": [
    "qplot(x=chi$Hour ,data=chi, color=I('Black'),fill=I('red'))+\n",
    "ggtitle(\"Histogram of Chicago's Usage (Hour)\") +\n",
    "labs(x = \"Hours\")+\n",
    "labs(y = \"Count of Users\")\n"
   ]
  },
  {
   "cell_type": "code",
   "execution_count": 30,
   "metadata": {},
   "outputs": [
    {
     "data": {
      "text/html": [
       "<span style=white-space:pre-wrap>'The most common Hour in New York city is:  17'</span>"
      ],
      "text/latex": [
       "'The most common Hour in New York city is:  17'"
      ],
      "text/markdown": [
       "<span style=white-space:pre-wrap>'The most common Hour in New York city is:  17'</span>"
      ],
      "text/plain": [
       "[1] \"The most common Hour in New York city is:  17\""
      ]
     },
     "metadata": {},
     "output_type": "display_data"
    }
   ],
   "source": [
    "#This will add a new column (Hour) to the dataframe with the specified format.\n",
    "\n",
    "ny$Hour <- format(as.POSIXct(strptime(ny$Start.Time,\"%Y-%m-%d %H:%M:%S\",tz=\"\")),format=\"%H\")\n",
    "\n",
    "#calculate the mode of the weekdays\n",
    "ny_Hour_mode <- ny$Hour\n",
    "ny_Hour_mode <- Mode(ny_Hour_mode)\n",
    "paste(\"The most common Hour in New York city is: \", ny_Hour_mode)"
   ]
  },
  {
   "cell_type": "code",
   "execution_count": 31,
   "metadata": {},
   "outputs": [
    {
     "data": {
      "image/png": "[encoded data removed]",
      "text/plain": [
       "plot without title"
      ]
     },
     "metadata": {},
     "output_type": "display_data"
    }
   ],
   "source": [
    "qplot(x=ny$Hour,data=ny, color=I('Black'),fill=I('orange'))+\n",
    "ggtitle(\"Histogram of New York's Usage (Hour)\") +\n",
    "labs(x = \"Hours\")+\n",
    "labs(y = \"Count of Users\")"
   ]
  },
  {
   "cell_type": "code",
   "execution_count": 32,
   "metadata": {},
   "outputs": [
    {
     "data": {
      "text/html": [
       "<span style=white-space:pre-wrap>'The most common Hour in Washington is:  08'</span>"
      ],
      "text/latex": [
       "'The most common Hour in Washington is:  08'"
      ],
      "text/markdown": [
       "<span style=white-space:pre-wrap>'The most common Hour in Washington is:  08'</span>"
      ],
      "text/plain": [
       "[1] \"The most common Hour in Washington is:  08\""
      ]
     },
     "metadata": {},
     "output_type": "display_data"
    }
   ],
   "source": [
    "#This will add a new column (Hour) to the dataframe with the specified format.\n",
    "\n",
    "wash$Hour <- format(as.POSIXct(strptime(wash$Start.Time,\"%Y-%m-%d %H:%M:%S\",tz=\"\")),format=\"%H\")\n",
    "\n",
    "#calculate the mode of the weekdays\n",
    "wash_Hour_mode <- wash$Hour\n",
    "wash_Hour_mode <- Mode(wash_Hour_mode)\n",
    "paste(\"The most common Hour in Washington is: \", wash_Hour_mode)"
   ]
  },
  {
   "cell_type": "code",
   "execution_count": 33,
   "metadata": {},
   "outputs": [
    {
     "data": {
      "image/png": "[encoded data removed]",
      "text/plain": [
       "plot without title"
      ]
     },
     "metadata": {},
     "output_type": "display_data"
    }
   ],
   "source": [
    "qplot(x=wash$Hour,data=wash, color=I('Black'),fill=I('Blue'))+\n",
    "ggtitle(\"Histogram of Washington's Usage (Hour)\") +\n",
    "labs(x = \"Hours\")+\n",
    "labs(y = \"Count of Users\")\n"
   ]
  },
  {
   "cell_type": "code",
   "execution_count": null,
   "metadata": {},
   "outputs": [],
   "source": [
    "#This will add a new column (Hour) to the dataframe with the specified format.\n",
    "\n",
    "Bike_share_df$Hour <- format(as.POSIXct(strptime(Bike_share_df$Start.Time,\"%Y-%m-%d %H:%M:%S\",tz=\"\")),format=\"%H\")\n",
    "\n",
    "#calculate the mode of the weekdays\n",
    "BS_Hour_mode <- Bike_share_df$Hour\n",
    "BS_Hour_mode <- Mode(BS_Hour_mode)\n",
    "paste(\"The most common Hour in all three cities is: \", BS_Hour_mode)"
   ]
  },
  {
   "cell_type": "code",
   "execution_count": null,
   "metadata": {},
   "outputs": [],
   "source": [
    "qplot(x=Bike_share_df$Hour, data= Bike_share_df, color=I('Black'),fill=I('Black'))+\n",
    "ggtitle(\"Histogram of all Bike share's Usage (Hour)\") +\n",
    "labs(x = \"Hours\")+\n",
    "labs(y = \"Count of Users\")\n",
    "\n"
   ]
  },
  {
   "cell_type": "markdown",
   "metadata": {},
   "source": [
    "**Summary of your question 1 results goes here.**"
   ]
  },
  {
   "cell_type": "markdown",
   "metadata": {},
   "source": [
    "From the above exploration, It is shown that;\n",
    "1. The most common Hour in Chicago city is: 17:00\n",
    "2. The most common Hour in New York city is: 17:00\n",
    "3. The most common Hour in Washington city is: 08:00\n",
    "4. While, The most common Hour in all three cities is: 08:00"
   ]
  },
  {
   "cell_type": "markdown",
   "metadata": {},
   "source": [
    "# Question 2\n",
    "\n",
    "### Popular stations and trip\n",
    "\n",
    "**Your question 2 goes here.**"
   ]
  },
  {
   "cell_type": "markdown",
   "metadata": {},
   "source": [
    "## What is the most common start station?"
   ]
  },
  {
   "cell_type": "code",
   "execution_count": null,
   "metadata": {},
   "outputs": [],
   "source": [
    "#most common start station in chicago city\n",
    "\n",
    "chi.str.stat.mode <- chi$Start.Station\n",
    "chi.str.stat.mode <- Mode(chi.str.stat.mode)\n",
    "\n",
    "paste(\"The most common start station in Chicago is: \", chi.str.stat.mode)"
   ]
  },
  {
   "cell_type": "code",
   "execution_count": null,
   "metadata": {},
   "outputs": [],
   "source": [
    "#most common start station in new york city\n",
    "\n",
    "ny.str.stat.mode <- ny$Start.Station\n",
    "ny.str.stat.mode <- Mode(ny.str.stat.mode)\n",
    "\n",
    "paste(\"The most common start station in New york city is: \", ny.str.stat.mode)"
   ]
  },
  {
   "cell_type": "code",
   "execution_count": null,
   "metadata": {},
   "outputs": [],
   "source": [
    "#most common start station in washington city\n",
    "\n",
    "wash.str.stat.mode <- wash$Start.Station\n",
    "wash.str.stat.mode <- Mode(wash.str.stat.mode)\n",
    "\n",
    "paste(\"The most common start station in Washington is: \", wash.str.stat.mode)"
   ]
  },
  {
   "cell_type": "code",
   "execution_count": null,
   "metadata": {},
   "outputs": [],
   "source": [
    "#most common start station for all three cities\n",
    "\n",
    "BS.str.stat.mode <- Bike_share_df$Start.Station\n",
    "BS.str.stat.mode <- Mode(BS.str.stat.mode)\n",
    "\n",
    "paste(\"The most common start station in all three cities is: \", BS.str.stat.mode)"
   ]
  },
  {
   "cell_type": "markdown",
   "metadata": {},
   "source": [
    "## What is the most common end station?"
   ]
  },
  {
   "cell_type": "code",
   "execution_count": null,
   "metadata": {},
   "outputs": [],
   "source": [
    "#most common end station in chicago city\n",
    "\n",
    "chi.end.stat.mode <- chi$End.Station\n",
    "chi.end.stat.mode <- Mode(chi.end.stat.mode)\n",
    "\n",
    "paste(\"The most common end station in Chicago is: \", chi.end.stat.mode)"
   ]
  },
  {
   "cell_type": "code",
   "execution_count": null,
   "metadata": {},
   "outputs": [],
   "source": [
    "#most common end station in new york city\n",
    "\n",
    "ny.end.stat.mode <- ny$End.Station\n",
    "ny.end.stat.mode <- Mode(ny.end.stat.mode)\n",
    "\n",
    "paste(\"The most common end station in New York city is: \", ny.end.stat.mode)"
   ]
  },
  {
   "cell_type": "code",
   "execution_count": null,
   "metadata": {},
   "outputs": [],
   "source": [
    "#most common end station in washington city\n",
    "\n",
    "wash.end.stat.mode <- wash$End.Station\n",
    "wash.end.stat.mode <- Mode(wash.end.stat.mode)\n",
    "\n",
    "paste(\"The most common end station in Washington city is: \", wash.end.stat.mode)"
   ]
  },
  {
   "cell_type": "code",
   "execution_count": null,
   "metadata": {},
   "outputs": [],
   "source": [
    "#most common end station for all three cities\n",
    "\n",
    "BS.end.stat.mode <- Bike_share_df$End.Station\n",
    "BS.end.stat.mode <- Mode(BS.end.stat.mode)\n",
    "\n",
    "paste(\"The most common end station in all three cities is: \", BS.end.stat.mode)"
   ]
  },
  {
   "cell_type": "markdown",
   "metadata": {},
   "source": [
    "# Question 3\n",
    "\n",
    "### Trip duration\n",
    "\n",
    "**Your question 3 goes here.**"
   ]
  },
  {
   "cell_type": "markdown",
   "metadata": {},
   "source": [
    "## What is the total travel time for users in different cities?"
   ]
  },
  {
   "cell_type": "code",
   "execution_count": null,
   "metadata": {},
   "outputs": [],
   "source": [
    "#calculate total travel time for chicago (seconds)\n",
    "\n",
    "chi_TT_secs <- sum(chi$Trip.Duration, na.rm = TRUE)\n",
    "\n",
    "#convert total travel time to hours\n",
    "\n",
    "chi_TT_hour <- chi_TT_secs/60\n",
    "\n",
    "paste(\"The total travel time (in seconds) for users in Chicago city is: \", chi_TT_secs)\n",
    "paste(\"The total travel time (in hours) for users in Chicago city is: \", chi_TT_hour)"
   ]
  },
  {
   "cell_type": "code",
   "execution_count": null,
   "metadata": {},
   "outputs": [],
   "source": [
    "#calculate total travel time for new york (seconds)\n",
    "\n",
    "ny_TT_secs <- sum(ny$Trip.Duration, na.rm = TRUE)\n",
    "\n",
    "#convert total travel time to hours\n",
    "\n",
    "ny_TT_hour <- ny_TT_secs/60\n",
    "\n",
    "paste(\"The total travel time (in seconds) for users in New York city is: \", ny_TT_secs)\n",
    "paste(\"The total travel time (in hours) for users in New York city is: \", ny_TT_hour)"
   ]
  },
  {
   "cell_type": "code",
   "execution_count": null,
   "metadata": {},
   "outputs": [],
   "source": [
    "#calculate total travel time for washington (seconds)\n",
    "\n",
    "wash_TT_secs <- sum(wash$Trip.Duration, na.rm = TRUE)\n",
    "\n",
    "#convert total travel time to hours\n",
    "\n",
    "wash_TT_hour <- wash_TT_secs/60\n",
    "\n",
    "paste(\"The total travel time (in seconds) for users in Washington D.C is: \", wash_TT_secs)\n",
    "paste(\"The total travel time (in hours) for users in Washington D.C is: \", wash_TT_hour)"
   ]
  },
  {
   "cell_type": "code",
   "execution_count": null,
   "metadata": {},
   "outputs": [],
   "source": [
    "#calculate total travel time (seconds)\n",
    "\n",
    "Total_TT_secs <- sum(Bike_share_df$Trip.Duration, na.rm = TRUE)\n",
    "\n",
    "#convert total travel time to hours\n",
    "\n",
    "Total_TT_hour <- Total_TT_secs/60\n",
    "\n",
    "paste(\"The total travel time (in seconds) for users in all three cities is: \", Total_TT_secs)\n",
    "paste(\"The total travel time (in hours) for users in  all three cities is: \", Total_TT_hour)"
   ]
  },
  {
   "cell_type": "markdown",
   "metadata": {},
   "source": [
    "## What is the average travel time for users in different cities?"
   ]
  },
  {
   "cell_type": "code",
   "execution_count": null,
   "metadata": {},
   "outputs": [],
   "source": [
    "#calculate Average travel time for chicago (seconds)\n",
    "\n",
    "chi_AT_secs <- mean(chi$Trip.Duration, na.rm = TRUE)\n",
    "\n",
    "#convert total travel time to hours\n",
    "\n",
    "chi_AT_hour <- chi_AT_secs/60\n",
    "\n",
    "paste(\"The average travel time (in seconds) for users in Chicago city is: \", chi_AT_secs)\n",
    "paste(\"The average travel time (in hours) for users in Chicago city is: \", chi_AT_hour)"
   ]
  },
  {
   "cell_type": "code",
   "execution_count": null,
   "metadata": {},
   "outputs": [],
   "source": [
    "#calculate Average travel time for new york (seconds)\n",
    "\n",
    "ny_AT_secs <- mean(ny$Trip.Duration, na.rm = TRUE)\n",
    "\n",
    "#convert total travel time to hours\n",
    "\n",
    "ny_AT_hour <- ny_AT_secs/60\n",
    "\n",
    "paste(\"The average travel time (in seconds) for users in New York city is: \", ny_AT_secs)\n",
    "paste(\"The average travel time (in hours) for users in New York city is: \", ny_AT_hour)"
   ]
  },
  {
   "cell_type": "code",
   "execution_count": null,
   "metadata": {},
   "outputs": [],
   "source": [
    "#calculate Average travel time for washington (seconds)\n",
    "\n",
    "wash_AT_secs <- mean(wash$Trip.Duration, na.rm = TRUE)\n",
    "\n",
    "#convert total travel time to hours\n",
    "\n",
    "wash_AT_hour <- wash_AT_secs/60\n",
    "\n",
    "paste(\"The average travel time (in seconds) for users in Washington D.C is: \", wash_AT_secs)\n",
    "paste(\"The average travel time (in hours) for users in Washington city is: \", wash_AT_hour)"
   ]
  },
  {
   "cell_type": "code",
   "execution_count": null,
   "metadata": {},
   "outputs": [],
   "source": [
    "#calculate Average travel time for all cities we have data for(seconds)\n",
    "\n",
    "Total_AT_secs <- mean(Bike_share_df$Trip.Duration, na.rm = TRUE)\n",
    "\n",
    "#convert total travel time to hours\n",
    "\n",
    "Total_AT_hour <- Total_AT_secs/60\n",
    "\n",
    "paste(\"The average travel time (in seconds) for users in all three cities is: \", Total_AT_secs)\n",
    "paste(\"The average travel time (in hours) for users in all three cities is: \", Total_AT_hour)"
   ]
  },
  {
   "cell_type": "markdown",
   "metadata": {},
   "source": [
    "# Question 4\n",
    "\n",
    "**Your question 3 goes here.**"
   ]
  },
  {
   "cell_type": "markdown",
   "metadata": {},
   "source": [
    "## What are the counts of each user type?"
   ]
  },
  {
   "cell_type": "code",
   "execution_count": null,
   "metadata": {},
   "outputs": [],
   "source": [
    "summary(chi$User.Type)"
   ]
  },
  {
   "cell_type": "code",
   "execution_count": null,
   "metadata": {},
   "outputs": [],
   "source": [
    "#To count the unique values using a for loop \n",
    "\n",
    "chi_subscriber = 0\n",
    "chi_customer_user = 0\n",
    "chi_NA_type = 0\n",
    "\n",
    "for (x in chi$User.Type) {\n",
    "    if (x == 'Subscriber') {\n",
    "        chi_subscriber = chi_subscriber + 1\n",
    "}    else if (x == 'Customer') {\n",
    "        chi_customer_user = chi_customer_user + 1\n",
    "}    else {\n",
    "        chi_NA_type = chi_NA_type + 1\n",
    "}\n",
    "}\n",
    "        \n",
    "\n",
    "paste(\"Total Chicago Subscribers:\", chi_subscriber)\n",
    "paste(\"Total Chicago Customers:\", chi_customer_user)\n",
    "paste(\"Total Chicago NA user values:\", chi_NA_type)"
   ]
  },
  {
   "cell_type": "code",
   "execution_count": null,
   "metadata": {},
   "outputs": [],
   "source": [
    "# plot of user type in chicago city\n",
    "\n",
    "qplot(x=User.Type, data=chi, color=I('Black'),fill=I('red'))+\n",
    "ggtitle(\"Histogram of all Chicago User Types\") +\n",
    "labs(x = \"User Types\")+\n",
    "labs(y = \"Count of Users\")\n"
   ]
  },
  {
   "cell_type": "code",
   "execution_count": null,
   "metadata": {},
   "outputs": [],
   "source": [
    "# Count of user type in New York city\n",
    "summary(ny$User.Type)"
   ]
  },
  {
   "cell_type": "code",
   "execution_count": null,
   "metadata": {},
   "outputs": [],
   "source": [
    "#To count the unique values using a for loop \n",
    "\n",
    "ny_subscriber = 0\n",
    "ny_customer_user = 0\n",
    "ny_NA_type = 0\n",
    "\n",
    "for (x in ny$User.Type) {\n",
    "    if (x == 'Subscriber') {\n",
    "        ny_subscriber = ny_subscriber + 1\n",
    "}    else if (x == 'Customer') {\n",
    "        ny_customer_user = ny_customer_user + 1\n",
    "}    else {\n",
    "        ny_NA_type = ny_NA_type + 1\n",
    "}\n",
    "}\n",
    "        \n",
    "\n",
    "paste(\"Total New York Subscribers:\", ny_subscriber)\n",
    "paste(\"Total New York Customers:\", ny_customer_user)\n",
    "paste(\"Total New York NA user values:\", ny_NA_type)"
   ]
  },
  {
   "cell_type": "code",
   "execution_count": null,
   "metadata": {},
   "outputs": [],
   "source": [
    "# plot of user type in New York city\n",
    "qplot(x=User.Type, data=ny, color=I('Black'),fill=I('orange'))+\n",
    "ggtitle(\"Histogram of all New York User Types\") +\n",
    "labs(x = \"User Types\")+\n",
    "labs(y = \"Count of Users\")\n"
   ]
  },
  {
   "cell_type": "code",
   "execution_count": null,
   "metadata": {},
   "outputs": [],
   "source": [
    "# Count of user type in Washington city\n",
    "summary(wash$User.Type)"
   ]
  },
  {
   "cell_type": "code",
   "execution_count": null,
   "metadata": {},
   "outputs": [],
   "source": [
    "#To count the unique values using a for loop \n",
    "\n",
    "wash_subscriber = 0\n",
    "wash_customer_user = 0\n",
    "wash_NA_type = 0\n",
    "\n",
    "for (x in wash$User.Type) {\n",
    "    if (x == 'Subscriber') {\n",
    "        wash_subscriber = wash_subscriber + 1\n",
    "}    else if (x == 'Customer') {\n",
    "        wash_customer_user = wash_customer_user + 1\n",
    "}    else {\n",
    "        wash_NA_type = wash_NA_type + 1\n",
    "}\n",
    "}\n",
    "        \n",
    "\n",
    "paste(\"Total Washington Subscribers:\", wash_subscriber)\n",
    "paste(\"Total Washington Customers:\", wash_customer_user)\n",
    "paste(\"Total Washington NA user values:\", wash_NA_type)"
   ]
  },
  {
   "cell_type": "code",
   "execution_count": null,
   "metadata": {},
   "outputs": [],
   "source": [
    "# Plot of user type in Washington city\n",
    "\n",
    "qplot(x=User.Type, data=wash, color=I('Black'),fill=I('Blue'))+\n",
    "ggtitle(\"Histogram of all Washington User Types\") +\n",
    "labs(x = \"User Types\")+\n",
    "labs(y = \"Count of Users\")\n"
   ]
  },
  {
   "cell_type": "code",
   "execution_count": null,
   "metadata": {},
   "outputs": [],
   "source": [
    "# Total count of user type in in all three cities\n",
    "\n",
    "summary(Bike_share_df$User.Type)"
   ]
  },
  {
   "cell_type": "code",
   "execution_count": null,
   "metadata": {},
   "outputs": [],
   "source": [
    "#To count the unique values using a for loop \n",
    "\n",
    "subscriber_user = 0\n",
    "customer_user = 0\n",
    "dependent_user = 0\n",
    "missing_user_type = 0\n",
    "\n",
    "for (x in Bike_share_df$User.Type) {\n",
    "    if (x == 'Subscriber') {\n",
    "        subscriber_user = subscriber_user + 1\n",
    "}    else if (x == 'Customer') {\n",
    "        customer_user = customer_user + 1\n",
    "}    else {\n",
    "        missing_user_type = missing_user_type + 1\n",
    "}\n",
    "}\n",
    "        \n",
    "\n",
    "paste(\"Total Bikeshare Subscribers:\", subscriber_user)\n",
    "paste(\"Total Bikeshare Customers:\", customer_user)\n",
    "paste(\"Total Bikeshare NA user values:\", missing_user_type)"
   ]
  },
  {
   "cell_type": "code",
   "execution_count": null,
   "metadata": {},
   "outputs": [],
   "source": [
    "#To count the unique values using a for loop \n",
    "\n",
    "subscriber_user = 0\n",
    "customer_user = 0\n",
    "dependent_user = 0\n",
    "missing_user_type = 0\n",
    "\n",
    "for (x in Bike_share_df$User.Type) {\n",
    "    if (x == 'Subscriber') {\n",
    "        subscriber_user = subscriber_user + 1\n",
    "}    else if (x == 'Customer') {\n",
    "        customer_user = customer_user + 1\n",
    "}    else {\n",
    "        missing_user_type = missing_user_type + 1\n",
    "}\n",
    "}\n",
    "        \n",
    "\n",
    "paste(\"Total Bikeshare Subscribers:\", subscriber_user)\n",
    "paste(\"Total Bikeshare Customers:\", customer_user)\n",
    "paste(\"Total Bikeshare NA user values:\", missing_user_type)"
   ]
  },
  {
   "cell_type": "code",
   "execution_count": null,
   "metadata": {},
   "outputs": [],
   "source": [
    "# Plot the total count of user type in in all three cities\n",
    "\n",
    "qplot(x=User.Type, data=Bike_share_df, color=I('Black'),fill=I('Black'))+\n",
    "ggtitle(\"Histogram of all Bike Share User Types\") +\n",
    "labs(x = \"User Types\")+\n",
    "labs(y = \"Count of Users\")\n"
   ]
  },
  {
   "cell_type": "markdown",
   "metadata": {},
   "source": [
    "From the above exploration and visualizations, It is shown that;\n",
    "1. Chicago city has:\n",
    "Subscribers: 6883\n",
    "Customers: 1746\n",
    "Total NA count: 1\n",
    "\n",
    "2. New York city has:\n",
    "Subscribers: 49093\n",
    "Customers: 5558\n",
    "Total NA count: 119\n",
    "\n",
    "3. WAshington city has:\n",
    "Subscribers: 65600\n",
    "Customers: 23450\n",
    "Total NA count: 1\n",
    "\n",
    "4. Total Bikeshare users are: \n",
    "Subscribers: 121576\n",
    "Customers: 30754\n",
    "Total NA count: 121"
   ]
  },
  {
   "cell_type": "markdown",
   "metadata": {},
   "source": [
    "## What are the counts of each gender (only available for NYC and Chicago)?"
   ]
  },
  {
   "cell_type": "code",
   "execution_count": null,
   "metadata": {},
   "outputs": [],
   "source": [
    "# counts of each gender for chicago city\n",
    "\n",
    "summary(chi$Gender)"
   ]
  },
  {
   "cell_type": "code",
   "execution_count": null,
   "metadata": {},
   "outputs": [],
   "source": [
    "#To count the unique values using a for loop \n",
    "\n",
    "chi_male_cust = 0\n",
    "chi_female_cust = 0\n",
    "chi_nan_gender = 0\n",
    "\n",
    "for (x in chi$Gender){\n",
    "    if (x == 'Male'){\n",
    "        chi_male_cust =  chi_male_cust + 1\n",
    "}    else if (x == 'Female'){\n",
    "        chi_female_cust = chi_female_cust + 1\n",
    "}    else {\n",
    "        chi_nan_gender = chi_nan_gender + 1\n",
    "}\n",
    "}\n",
    "\n",
    "paste(\"Chicago Male Users:\", chi_male_cust)\n",
    "paste(\"Chicago Female Users:\", chi_female_cust)\n",
    "paste(\"Chicago NA Genders:\", chi_nan_gender)"
   ]
  },
  {
   "cell_type": "code",
   "execution_count": null,
   "metadata": {},
   "outputs": [],
   "source": [
    "# Plot the count of each gender for chicago city\n",
    "\n",
    "qplot(x=Gender, data=na.omit(chi), color=I('Black'),fill=I('red'))+\n",
    "ggtitle(\"Histogram of Chicago Users' Genders\") +\n",
    "labs(x = \"Genders\")+\n",
    "labs(y = \"Count of Users\")\n"
   ]
  },
  {
   "cell_type": "code",
   "execution_count": null,
   "metadata": {},
   "outputs": [],
   "source": [
    "# counts of each gender for new york city\n",
    "\n",
    "summary(ny$Gender)"
   ]
  },
  {
   "cell_type": "code",
   "execution_count": null,
   "metadata": {},
   "outputs": [],
   "source": [
    "#To count the unique values using a for loop \n",
    "\n",
    "ny_male_cust = 0\n",
    "ny_female_cust = 0\n",
    "ny_nan_gender = 0\n",
    "\n",
    "for (x in ny$Gender){\n",
    "    if (x == 'Male'){\n",
    "        ny_male_cust =  ny_male_cust + 1\n",
    "}    else if (x == 'Female'){\n",
    "        ny_female_cust = ny_female_cust + 1\n",
    "}    else {\n",
    "        ny_nan_gender = ny_nan_gender + 1\n",
    "}\n",
    "}\n",
    "\n",
    "paste(\"New York Male Users:\", ny_male_cust)\n",
    "paste(\"New York Female Users:\", ny_female_cust)\n",
    "paste(\"New York NA Genders:\", ny_nan_gender)"
   ]
  },
  {
   "cell_type": "code",
   "execution_count": null,
   "metadata": {},
   "outputs": [],
   "source": [
    "# Plot the counts of each gender for new york city\n",
    "\n",
    "qplot(x=Gender, data=na.omit(ny), color=I('Black'),fill=I('orange'))+\n",
    "ggtitle(\"Histogram of New York Users' Genders\") +\n",
    "labs(x = \"Genders\")+\n",
    "labs(y = \"Count of Users\")\n"
   ]
  },
  {
   "cell_type": "code",
   "execution_count": null,
   "metadata": {},
   "outputs": [],
   "source": [
    "# Total count of each gender in chicago and new york coity combined\n",
    "\n",
    "summary(NY_Chicago_df$Gender)"
   ]
  },
  {
   "cell_type": "code",
   "execution_count": null,
   "metadata": {},
   "outputs": [],
   "source": [
    "#To count the unique values using a for loop \n",
    "\n",
    "Male_cust = 0\n",
    "Female_cust = 0\n",
    "nan_gender = 0\n",
    "\n",
    "for (x in NY_Chicago_df$Gender){\n",
    "    if (x == 'Male'){\n",
    "        Male_cust =  Male_cust + 1\n",
    "}    else if (x == 'Female'){\n",
    "        Female_cust = Female_cust + 1\n",
    "}    else {\n",
    "        nan_gender = nan_gender + 1\n",
    "}\n",
    "}\n",
    "\n",
    "paste(\"Total Bikeshare Male Users:\", Male_cust)\n",
    "paste(\"Total Bikeshare Female Users:\", Female_cust)\n",
    "paste(\"Total Bikeshare NA values:\", nan_gender)"
   ]
  },
  {
   "cell_type": "code",
   "execution_count": null,
   "metadata": {},
   "outputs": [],
   "source": [
    "# Polt the total count of each gender in chicago and new york coity combined\n",
    "\n",
    "qplot(x=Gender, data=na.omit(NY_Chicago_df), color=I('Black'),fill=I('purple'))+\n",
    "ggtitle(\"Histogram of Bike Share Users' Gender\") +\n",
    "labs(x = \"Genders\")+\n",
    "labs(y = \"Count of Users\")"
   ]
  },
  {
   "cell_type": "markdown",
   "metadata": {},
   "source": [
    "From the above exploration and visualizations, It is shown that;\n",
    "1. Chicago city has:\n",
    "Male Users: 5159,\n",
    "Female Users: 1723,\n",
    "total NA count: 1748,\n",
    "\n",
    "2. New York city has:\n",
    "Male Users: 37201,\n",
    "Female Users: 12159,\n",
    "total Na count: 5410,\n",
    "\n",
    "3. Total Bikeshare users are: \n",
    "Male Users: 42360,\n",
    "Female Users: 13882,\n",
    "Total NA count: 7158"
   ]
  },
  {
   "cell_type": "markdown",
   "metadata": {},
   "source": [
    "## What are the earliest, most recent, most common year of birth (only available for NYC and Chicago)?"
   ]
  },
  {
   "cell_type": "markdown",
   "metadata": {},
   "source": [
    "## To find the earliest year of birth"
   ]
  },
  {
   "cell_type": "code",
   "execution_count": null,
   "metadata": {},
   "outputs": [],
   "source": [
    "chi_earl_b_year <- min(chi$Birth.Year, na.rm = TRUE)\n",
    "\n",
    "paste(\"The earliest birth year in Chicago is :\", chi_earl_b_year)"
   ]
  },
  {
   "cell_type": "code",
   "execution_count": null,
   "metadata": {},
   "outputs": [],
   "source": [
    "ny_earl_b_year <- min(ny$Birth.Year, na.rm = TRUE)\n",
    "\n",
    "paste(\"The earliest birth year in New York city is :\", ny_earl_b_year)"
   ]
  },
  {
   "cell_type": "code",
   "execution_count": null,
   "metadata": {},
   "outputs": [],
   "source": [
    "All_earl_b_year <- min(NY_Chicago_df$Birth.Year, na.rm = TRUE)\n",
    "\n",
    "paste(\"The earliest birth year in Chicago and New York city (combined) is :\", All_earl_b_year)"
   ]
  },
  {
   "cell_type": "markdown",
   "metadata": {},
   "source": [
    "## To find the most recent year of birth "
   ]
  },
  {
   "cell_type": "code",
   "execution_count": null,
   "metadata": {},
   "outputs": [],
   "source": [
    "chi_rec_birth_year <- max(chi$Birth.Year, na.rm = TRUE)\n",
    "\n",
    "paste(\"The most recent birth year in Chicago is :\", chi_rec_birth_year)"
   ]
  },
  {
   "cell_type": "code",
   "execution_count": null,
   "metadata": {},
   "outputs": [],
   "source": [
    "ny_rec_birth_year <- max(ny$Birth.Year, na.rm = TRUE)\n",
    "\n",
    "paste(\"The most recent birth year in New York city is :\", ny_rec_birth_year)"
   ]
  },
  {
   "cell_type": "code",
   "execution_count": null,
   "metadata": {},
   "outputs": [],
   "source": [
    "All_rec_birth_year <- max(NY_Chicago_df$Birth.Year, na.rm = TRUE)\n",
    "\n",
    "paste(\"The most recent birth year in Chicago and New York city (combined) is :\", All_rec_birth_year)"
   ]
  },
  {
   "cell_type": "markdown",
   "metadata": {},
   "source": [
    "## To find the most common year of birth"
   ]
  },
  {
   "cell_type": "code",
   "execution_count": null,
   "metadata": {},
   "outputs": [],
   "source": [
    "#Most common year of birth in chicago city\n",
    "\n",
    "chi_com_year <- Mode(chi$Birth.Year)\n",
    "\n",
    "paste(\"The most common year of birth in Chicago is :\", chi_com_year)\n"
   ]
  },
  {
   "cell_type": "code",
   "execution_count": null,
   "metadata": {},
   "outputs": [],
   "source": [
    "qplot(x=Birth.Year, data=chi, bins=35, xlim= c(1940, 1989), color=I('Black'),fill=I('red'))+\n",
    "ggtitle(\"Histogram of Chicago Users' Birth Year\") +\n",
    "labs(x = \"Birth Year\")+\n",
    "labs(y = \"Count of Users\")\n"
   ]
  },
  {
   "cell_type": "code",
   "execution_count": null,
   "metadata": {},
   "outputs": [],
   "source": [
    "#Most common year of birth in new york city\n",
    "\n",
    "ny_com_year <- Mode(ny$Birth.Year)\n",
    "\n",
    "\n",
    "paste(\"The most common year of birth in New York city is :\", ny_com_year)\n",
    "\n"
   ]
  },
  {
   "cell_type": "code",
   "execution_count": null,
   "metadata": {},
   "outputs": [],
   "source": [
    "qplot(x=Birth.Year, data=ny, bins=65, xlim= c(1940, 2005), color=I('Black'),fill=I('orange'))+\n",
    "ggtitle(\"Histogram of New York Users' Birth Year\") +\n",
    "labs(x = \"Birth Year\")+\n",
    "labs(y = \"Count of Users\")\n"
   ]
  },
  {
   "cell_type": "code",
   "execution_count": null,
   "metadata": {},
   "outputs": [],
   "source": [
    "#Most common year of birth in all cities\n",
    "\n",
    "All_com_year <- Mode(NY_Chicago_df$Birth.Year)\n",
    "\n",
    "paste(\"The most common year of birth in Chicago and New York city (combined) is :\", All_com_year)\n"
   ]
  },
  {
   "cell_type": "code",
   "execution_count": null,
   "metadata": {},
   "outputs": [],
   "source": [
    "qplot(x=Birth.Year, data=NY_Chicago_df, bins=50, xlim= c(1940, 2005), color=I('Black'),fill=I('purple'))+\n",
    "ggtitle(\"Histogram of all Bike Share Users' Birth Year\") +\n",
    "labs(x = \"Birth Year\")+\n",
    "labs(y = \"Count of Users\")\n"
   ]
  },
  {
   "cell_type": "markdown",
   "metadata": {},
   "source": [
    "From the above exploration and visualizations, It is shown that;\n",
    "1. The most common year of birth in Chicago is : 1989\n",
    "2. The most common year of birth in New York city is : 1989\n",
    "3. The most common year of birth in Chicago and New York city (combined) is : 1989"
   ]
  },
  {
   "cell_type": "markdown",
   "metadata": {},
   "source": [
    "\n",
    "## Finishing Up\n",
    "\n",
    "> Congratulations!  You have reached the end of the Explore Bikeshare Data Project. You should be very proud of all you have accomplished!\n",
    "\n",
    "> **Tip**: Once you are satisfied with your work here, check over your report to make sure that it is satisfies all the areas of the [rubric](https://review.udacity.com/#!/rubrics/2508/view). \n",
    "\n",
    "\n",
    "## Directions to Submit\n",
    "\n",
    "> Before you submit your project, you need to create a .html or .pdf version of this notebook in the workspace here. To do that, run the code cell below. If it worked correctly, you should get a return code of 0, and you should see the generated .html file in the workspace directory (click on the orange Jupyter icon in the upper left).\n",
    "\n",
    "> Alternatively, you can download this report as .html via the **File** > **Download as** submenu, and then manually upload it into the workspace directory by clicking on the orange Jupyter icon in the upper left, then using the Upload button.\n",
    "\n",
    "> Once you've done this, you can submit your project by clicking on the \"Submit Project\" button in the lower right here. This will create and submit a zip file with this .ipynb doc and the .html or .pdf version you created. Congratulations!"
   ]
  },
  {
   "cell_type": "code",
   "execution_count": null,
   "metadata": {},
   "outputs": [],
   "source": [
    "system('python -m nbconvert Explore_bikeshare_data.ipynb')"
   ]
  }
 ],
 "metadata": {
  "kernelspec": {
   "display_name": "R",
   "language": "R",
   "name": "ir"
  },
  "language_info": {
   "codemirror_mode": "r",
   "file_extension": ".r",
   "mimetype": "text/x-r-source",
   "name": "R",
   "pygments_lexer": "r",
   "version": "3.5.1"
  }
 },
 "nbformat": 4,
 "nbformat_minor": 2
}
